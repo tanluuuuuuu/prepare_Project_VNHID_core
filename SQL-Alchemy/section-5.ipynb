{
 "cells": [
  {
   "cell_type": "markdown",
   "id": "0d85c267",
   "metadata": {},
   "source": [
    "# Section 5 - Modifying Data with ORM\n",
    "## Initializing Connection to Database\n",
    "\n",
    "Firstly, lets once again initialize the database connection (copy from the previous section)"
   ]
  },
  {
   "cell_type": "code",
   "execution_count": 74,
   "id": "528b259e-e023-451a-b444-85f067610d96",
   "metadata": {
    "ExecuteTime": {
     "end_time": "2023-10-25T08:07:31.548132500Z",
     "start_time": "2023-10-25T08:07:31.496131800Z"
    }
   },
   "outputs": [],
   "source": [
    "from sqlalchemy import create_engine, URL\n",
    "from sqlalchemy.orm import sessionmaker\n",
    "\n",
    "\n",
    "url = URL.create(\n",
    "    drivername=\"postgresql+psycopg2\",  # driver name = postgresql + the library we are using (psycopg2)\n",
    "    username='testuser',\n",
    "    password='testpassword',\n",
    "    host='localhost',\n",
    "    database='testuser',\n",
    "    port=5432\n",
    ").render_as_string(hide_password=False)\n",
    "\n",
    "# I've set echo False so we have a cleaner output\n",
    "engine = create_engine(url, echo=False)\n",
    "session_pool = sessionmaker(bind=engine)"
   ]
  },
  {
   "cell_type": "markdown",
   "id": "2b64883a",
   "metadata": {},
   "source": [
    "If you for some reason skipped the previous section, you can run the following code to declare the tables."
   ]
  },
  {
   "cell_type": "code",
   "execution_count": 81,
   "id": "a9ca827b",
   "metadata": {
    "ExecuteTime": {
     "end_time": "2023-10-25T08:09:33.728762800Z",
     "start_time": "2023-10-25T08:09:33.679262200Z"
    }
   },
   "outputs": [],
   "source": [
    "from typing_extensions import Annotated\n",
    "from typing import Optional\n",
    "from sqlalchemy.ext.declarative import declared_attr\n",
    "\n",
    "import datetime\n",
    "from sqlalchemy.dialects.postgresql import TIMESTAMP\n",
    "from sqlalchemy import ForeignKey, BIGINT\n",
    "\n",
    "from sqlalchemy import String\n",
    "from sqlalchemy.orm import Mapped, relationship\n",
    "from sqlalchemy.orm import mapped_column\n",
    "from sqlalchemy.sql.functions import func\n",
    "\n",
    "from sqlalchemy import INTEGER, VARCHAR, DECIMAL\n",
    "from sqlalchemy.orm import DeclarativeBase\n",
    "\n",
    "\n",
    "# Creating a base class\n",
    "class Base(DeclarativeBase):\n",
    "    pass\n",
    "\n",
    "\n",
    "# Users ForeignKey\n",
    "user_fk = Annotated[\n",
    "    int, mapped_column(BIGINT, ForeignKey(\"users.telegram_id\", ondelete=\"CASCADE\"))\n",
    "]\n",
    "\n",
    "# integer primary key\n",
    "int_pk = Annotated[int, mapped_column(INTEGER, primary_key=True)]\n",
    "\n",
    "# string column with length 255\n",
    "str_255 = Annotated[str, mapped_column(String(255))]\n",
    "\n",
    "\n",
    "class TimestampMixin:\n",
    "    created_at: Mapped[datetime] = mapped_column(TIMESTAMP, server_default=func.now())\n",
    "    # Next line won't work properly on PostgreSQL, because of the way how it handles TIMESTAMP, unfortunately\n",
    "    updated_at: Mapped[datetime] = mapped_column(TIMESTAMP, server_default=func.now(), onupdate=func.now())\n",
    "\n",
    "\n",
    "class TableNameMixin:\n",
    "    @declared_attr.directive\n",
    "    def __tablename__(cls) -> str:\n",
    "        return cls.__name__.lower() + \"s\"\n",
    "\n",
    "\n",
    "class User(Base, TimestampMixin, TableNameMixin):\n",
    "    telegram_id: Mapped[int] = mapped_column(\n",
    "        BIGINT, primary_key=True, autoincrement=False,\n",
    "    )\n",
    "    full_name: Mapped[str_255]\n",
    "    user_name: Mapped[Optional[str_255]]\n",
    "    language_code: Mapped[str] = mapped_column(VARCHAR(10))\n",
    "\n",
    "    # !!! Here I've added ondelete statement, so the referrals won't be deleted\n",
    "    referrer_id: Mapped[Optional[user_fk]] = mapped_column(\n",
    "        BIGINT, ForeignKey('users.telegram_id', ondelete='SET NULL')\n",
    "    )\n",
    "\n",
    "    orders: Mapped[list['Order']] = relationship(back_populates='user')\n",
    "\n",
    "    # We can also add __repr__ method to our class to make it more readable on output\n",
    "    def __repr__(self):\n",
    "        return f'User: {self.full_name} (ID: {self.telegram_id}). Referrer: {self.referrer_id}'\n",
    "\n",
    "\n",
    "class Order(Base, TimestampMixin, TableNameMixin):\n",
    "    order_id: Mapped[int_pk]\n",
    "    user_id: Mapped[user_fk]\n",
    "\n",
    "    # Notice that we encapsulate our association object class \n",
    "    # with quotes to avoid name resolving issues in runtime\n",
    "    products: Mapped[list['OrderProducts']] = relationship()\n",
    "    user: Mapped['User'] = relationship(back_populates='orders')\n",
    "\n",
    "\n",
    "class Product(Base, TimestampMixin, TableNameMixin):\n",
    "    product_id: Mapped[int_pk]\n",
    "    title: Mapped[str_255]\n",
    "    description: Mapped[Optional[str]] = mapped_column(VARCHAR(3000))\n",
    "    price: Mapped[float] = mapped_column(DECIMAL(precision=16, scale=4))\n",
    "    \n",
    "    \n",
    "    # We also add __repr__ method to this class as well to make it more readable on output\n",
    "    def __repr__(self):\n",
    "        return f'Product: {self.title} (ID: {self.product_id}). Price: {self.price}'\n",
    "\n",
    "\n",
    "class OrderProducts(Base, TableNameMixin):\n",
    "    order_id: Mapped[int] = mapped_column(\n",
    "        INTEGER, ForeignKey('orders.order_id', ondelete='CASCADE'), primary_key=True,\n",
    "    )\n",
    "    product_id: Mapped[int] = mapped_column(\n",
    "        INTEGER, ForeignKey('products.product_id', ondelete='RESTRICT'), primary_key=True,\n",
    "    )\n",
    "    quantity: Mapped[int]\n",
    "\n",
    "    product: Mapped['Product'] = relationship()"
   ]
  },
  {
   "cell_type": "markdown",
   "id": "c3d32b83",
   "metadata": {},
   "source": [
    "## Repository\n",
    "\n",
    "Repository is a class that stores and manages the database interaction"
   ]
  },
  {
   "cell_type": "markdown",
   "id": "a6535855",
   "metadata": {},
   "source": [
    "### Adding Repo methods\n",
    "Let's first clean up the users and test our new queries on fresh data. "
   ]
  },
  {
   "cell_type": "code",
   "execution_count": 84,
   "id": "f2afa6a0",
   "metadata": {
    "ExecuteTime": {
     "end_time": "2023-10-25T08:09:51.003618300Z",
     "start_time": "2023-10-25T08:09:50.948118300Z"
    }
   },
   "outputs": [],
   "source": [
    "from sqlalchemy.orm import Session\n",
    "\n",
    "\n",
    "class Repo:\n",
    "    def __init__(self, session: Session):\n",
    "        self.session = session\n",
    "\n",
    "    def add_user(\n",
    "            self,\n",
    "            telegram_id: int,\n",
    "            full_name: str,\n",
    "            language_code: str,\n",
    "            user_name: str = None,\n",
    "            referrer_id: int = None,\n",
    "    ):\n",
    "        stmt = insert(User).values(\n",
    "            telegram_id=telegram_id,\n",
    "            full_name=full_name,\n",
    "            user_name=user_name,\n",
    "            language_code=language_code,\n",
    "            referrer_id=referrer_id,\n",
    "        ).returning(User)\n",
    "        \n",
    "        result = self.session.execute(stmt)\n",
    "        self.session.commit()\n",
    "        return result.scalars().first()\n",
    "\n",
    "    def get_all_users(self):\n",
    "        stmt = select(User)\n",
    "        result = self.session.execute(stmt)\n",
    "        return result.scalars().all()\n",
    "\n",
    "    # Here is how we can delete all users from the database\n",
    "    def cleanup_users(self):\n",
    "        stmt = delete(User)\n",
    "        self.session.execute(stmt)\n",
    "        self.session.commit()"
   ]
  },
  {
   "cell_type": "markdown",
   "id": "5e6020e1",
   "metadata": {},
   "source": [
    "### Run Repo methods\n",
    "Let's fill out the users with faker again. Make sure you have faker library installed."
   ]
  },
  {
   "cell_type": "code",
   "execution_count": null,
   "outputs": [],
   "source": [
    "!pip install faker"
   ],
   "metadata": {
    "collapsed": false
   },
   "id": "c9a60158960cdf3c"
  },
  {
   "cell_type": "code",
   "execution_count": null,
   "outputs": [],
   "source": [
    "# In case you've skipped the alembic section, you'll need to create the tables, you can do it by uncommenting and running the following lines\n",
    "# Base.metadata.drop_all(engine)\n",
    "# Base.metadata.create_all(engine)"
   ],
   "metadata": {
    "collapsed": false
   },
   "id": "63b3fd0555c8c18a"
  },
  {
   "cell_type": "code",
   "execution_count": 109,
   "id": "288aa104",
   "metadata": {
    "ExecuteTime": {
     "end_time": "2023-10-25T08:34:55.469319400Z",
     "start_time": "2023-10-25T08:34:55.289319200Z"
    }
   },
   "outputs": [],
   "source": [
    "# Import the Faker library to generate fake data\n",
    "from faker import Faker\n",
    "\n",
    "# Initialize the Faker object\n",
    "fake = Faker()\n",
    "\n",
    "# Create a session using a session pool for database operations\n",
    "with session_pool() as session:\n",
    "    # Initialize the repository to perform operations on the database\n",
    "    repo = Repo(session)\n",
    "    \n",
    "    # Cleanup any existing users in the database before adding new ones\n",
    "    repo.cleanup_users()\n",
    "    \n",
    "    # Initialize an empty list to keep track of generated users\n",
    "    users = []\n",
    "    \n",
    "    # Loop to add 10 new users to the database\n",
    "    for _ in range(10):\n",
    "        # Add a new user to the database using the add_user method of the Repo class\n",
    "        # Each user will have a random Telegram ID, full name, language code, and username\n",
    "        user = repo.add_user(\n",
    "            telegram_id=fake.pyint(),  # Generates a random integer\n",
    "            full_name=fake.name(),  # Generates a random full name\n",
    "            language_code=fake.language_code(),  # Generates a random language code (e.g., \"en\")\n",
    "            user_name=fake.user_name(),  # Generates a random username\n",
    "        )\n",
    "        \n",
    "        users.append(user)"
   ]
  },
  {
   "cell_type": "markdown",
   "source": [
    "Let's check if we have users in the database"
   ],
   "metadata": {
    "collapsed": false
   },
   "id": "512d1de615bc8d6b"
  },
  {
   "cell_type": "code",
   "execution_count": 110,
   "outputs": [
    {
     "name": "stdout",
     "output_type": "stream",
     "text": [
      "User: William Salazar (ID: 3545). Referrer: None\n",
      "User: Mr. Richard Beltran (ID: 860). Referrer: None\n",
      "User: Rachael Yoder (ID: 6175). Referrer: None\n",
      "User: Samuel Garcia (ID: 338). Referrer: None\n",
      "User: Sarah Watson (ID: 9928). Referrer: None\n",
      "User: Kyle Cummings (ID: 8924). Referrer: None\n",
      "User: Valerie Johnson (ID: 7025). Referrer: None\n",
      "User: Andrew Miller (ID: 844). Referrer: None\n",
      "User: Frank Mcfarland (ID: 4542). Referrer: None\n",
      "User: Sean Murphy (ID: 1601). Referrer: None\n"
     ]
    }
   ],
   "source": [
    "with session_pool() as session:\n",
    "    repo = Repo(session)\n",
    "    for user in repo.get_all_users():\n",
    "        print(user)"
   ],
   "metadata": {
    "collapsed": false,
    "ExecuteTime": {
     "end_time": "2023-10-25T08:34:57.780334500Z",
     "start_time": "2023-10-25T08:34:57.712836700Z"
    }
   },
   "id": "a87c542aa0f20db6"
  },
  {
   "cell_type": "markdown",
   "id": "a3bb1562",
   "metadata": {},
   "source": [
    "### Lesson 1: Update the users' referrers\n",
    "Let's update our Repo class to include the method"
   ]
  },
  {
   "cell_type": "code",
   "execution_count": 93,
   "id": "6c444cc3",
   "metadata": {
    "ExecuteTime": {
     "end_time": "2023-10-25T08:11:49.254429Z",
     "start_time": "2023-10-25T08:11:49.197425500Z"
    }
   },
   "outputs": [],
   "source": [
    "from sqlalchemy.orm import Session\n",
    "\n",
    "\n",
    "class Repo:\n",
    "    def __init__(self, session: Session):\n",
    "        self.session = session\n",
    "\n",
    "    def add_user(\n",
    "            self,\n",
    "            telegram_id: int,\n",
    "            full_name: str,\n",
    "            language_code: str,\n",
    "            user_name: str = None,\n",
    "            referrer_id: int = None,\n",
    "    ):\n",
    "        stmt = insert(User).values(\n",
    "            telegram_id=telegram_id,\n",
    "            full_name=full_name,\n",
    "            user_name=user_name,\n",
    "            language_code=language_code,\n",
    "            referrer_id=referrer_id,\n",
    "        ).returning(User)\n",
    "        \n",
    "        result = self.session.execute(stmt)\n",
    "        self.session.commit()\n",
    "        return result.scalars().first()\n",
    "\n",
    "    def get_all_users(self):\n",
    "        stmt = select(User)\n",
    "        result = self.session.execute(stmt)\n",
    "        return result.scalars().all()\n",
    "\n",
    "    def cleanup_users(self):\n",
    "        stmt = delete(User)\n",
    "        self.session.execute(stmt)\n",
    "        self.session.commit()\n",
    "\n",
    "    def set_new_referrer(self, user_id: int, referrer_id: int):\n",
    "        # Create an 'update' statement for the User table\n",
    "        # SQLAlchemy's 'update' function is used to update records\n",
    "        stmt = (\n",
    "            update(User)  # Specify that you're updating the User table\n",
    "            .where(User.telegram_id == user_id)  # Specify which row(s) to update using the 'where' clause\n",
    "            .values(referrer_id=referrer_id)  # Define the new value(s) using the 'values' method\n",
    "            # The '.returning' clause specifies what should be returned after the update\n",
    "        ).returning(User)\n",
    "        \n",
    "        # Execute the statement and store the result\n",
    "        result = self.session.execute(stmt)\n",
    "        \n",
    "        # Commit the transaction to make the update permanent\n",
    "        self.session.commit()\n",
    "        \n",
    "        # Retrieve the first updated object from the Result object\n",
    "        # '.scalars().first()' fetches the first updated record as an object\n",
    "        return result.scalars().first()"
   ]
  },
  {
   "cell_type": "markdown",
   "id": "37cd071e",
   "metadata": {},
   "source": [
    "### Testing the Update method"
   ]
  },
  {
   "cell_type": "code",
   "execution_count": 113,
   "id": "8b91f646",
   "metadata": {
    "ExecuteTime": {
     "end_time": "2023-10-25T08:35:35.449025200Z",
     "start_time": "2023-10-25T08:35:35.392028400Z"
    }
   },
   "outputs": [
    {
     "name": "stdout",
     "output_type": "stream",
     "text": [
      "User: William Salazar (ID: 3545). Referrer: None\n",
      "User: Mr. Richard Beltran (ID: 860). Referrer: None\n",
      "User: Rachael Yoder (ID: 6175). Referrer: None\n",
      "User: Samuel Garcia (ID: 338). Referrer: None\n",
      "User: Sarah Watson (ID: 9928). Referrer: None\n",
      "User: Kyle Cummings (ID: 8924). Referrer: None\n",
      "User: Valerie Johnson (ID: 7025). Referrer: None\n",
      "User: Andrew Miller (ID: 844). Referrer: None\n",
      "User: Frank Mcfarland (ID: 4542). Referrer: None\n",
      "User: Sean Murphy (ID: 1601). Referrer: None\n"
     ]
    }
   ],
   "source": [
    "with session_pool() as session:\n",
    "    repo = Repo(session)\n",
    "    # If you already know the user id - you can use it, otherwise you can get it from the database\n",
    "    users = repo.get_all_users()\n",
    "    for user in users:\n",
    "        print(user)"
   ]
  },
  {
   "cell_type": "markdown",
   "id": "53930ebb",
   "metadata": {},
   "source": [
    "Now we can use the select some of the users and set some referrers"
   ]
  },
  {
   "cell_type": "code",
   "execution_count": 114,
   "outputs": [
    {
     "name": "stdout",
     "output_type": "stream",
     "text": [
      "User: William Salazar (ID: 3545). Referrer: 860\n",
      "User: Rachael Yoder (ID: 6175). Referrer: 338\n"
     ]
    }
   ],
   "source": [
    "with session_pool() as session:\n",
    "    repo = Repo(session)\n",
    "    new_user = repo.set_new_referrer(user_id=users[0].telegram_id, referrer_id=users[1].telegram_id)\n",
    "    print(new_user)\n",
    "    new_another_user = repo.set_new_referrer(user_id=users[2].telegram_id, referrer_id=users[3].telegram_id)\n",
    "    print(new_another_user)"
   ],
   "metadata": {
    "collapsed": false,
    "ExecuteTime": {
     "end_time": "2023-10-25T08:35:38.042623Z",
     "start_time": "2023-10-25T08:35:37.987623300Z"
    }
   },
   "id": "b16a3bdd62f36277"
  },
  {
   "cell_type": "markdown",
   "id": "36ad49b9-1b54-437e-b6b1-a32ee1f9a121",
   "metadata": {},
   "source": [
    "### Lesson 2: Delete the user by id\n",
    "We'll have to update our Repo class again"
   ]
  },
  {
   "cell_type": "code",
   "execution_count": 95,
   "id": "1cce612a-d89b-457c-9647-521e30a9b9c5",
   "metadata": {
    "ExecuteTime": {
     "end_time": "2023-10-25T08:12:39.409481400Z",
     "start_time": "2023-10-25T08:12:39.355982900Z"
    }
   },
   "outputs": [],
   "source": [
    "from sqlalchemy.orm import Session\n",
    "\n",
    "\n",
    "class Repo:\n",
    "    def __init__(self, session: Session):\n",
    "        self.session = session\n",
    "\n",
    "    def add_user(\n",
    "            self,\n",
    "            telegram_id: int,\n",
    "            full_name: str,\n",
    "            language_code: str,\n",
    "            user_name: str = None,\n",
    "            referrer_id: int = None,\n",
    "    ):\n",
    "        stmt = insert(User).values(\n",
    "            telegram_id=telegram_id,\n",
    "            full_name=full_name,\n",
    "            user_name=user_name,\n",
    "            language_code=language_code,\n",
    "            referrer_id=referrer_id,\n",
    "        ).returning(User)\n",
    "        \n",
    "        result = self.session.execute(stmt)\n",
    "        self.session.commit()\n",
    "        return result.scalars().first()\n",
    "\n",
    "    def get_all_users(self):\n",
    "        stmt = select(User)\n",
    "        result = self.session.execute(stmt)\n",
    "        return result.scalars().all()\n",
    "\n",
    "    def cleanup_users(self):\n",
    "        stmt = delete(User)\n",
    "        self.session.execute(stmt)\n",
    "        self.session.commit()\n",
    "\n",
    "    def set_new_referrer(self, user_id: int, referrer_id: int):\n",
    "        stmt = (\n",
    "            update(User)  # Specify that you're updating the User table\n",
    "            .where(User.telegram_id == user_id)  # Specify which row(s) to update using the 'where' clause\n",
    "            .values(referrer_id=referrer_id)  # Define the new value(s) using the 'values' method\n",
    "        ).returning(User)\n",
    "        result = self.session.execute(stmt)\n",
    "        self.session.commit()\n",
    "        \n",
    "        return result.scalars().first()\n",
    "\n",
    "\n",
    "    def delete_user_by_id(self, user_id: int):\n",
    "        # Create a 'delete' statement for the User table\n",
    "        # SQLAlchemy's 'delete' function is used to delete records\n",
    "        stmt = (\n",
    "            delete(User)  # Specify that you're deleting from the User table\n",
    "            # Use the 'where' clause to specify which row(s) should be deleted\n",
    "            # In this case, delete where the 'telegram_id' matches 'user_id'\n",
    "            .where(User.telegram_id == user_id)\n",
    "        )\n",
    "        # Execute the SQL statement\n",
    "        # 'session.execute' runs the SQL statement, but changes are not committed yet\n",
    "        self.session.execute(stmt)\n",
    "        \n",
    "        # Commit the transaction to make the deletion permanent\n",
    "        self.session.commit()\n"
   ]
  },
  {
   "cell_type": "markdown",
   "id": "963c6b7e-9bd9-4c6e-9854-a4ee8c817c29",
   "metadata": {},
   "source": [
    "### Testing the Delete method"
   ]
  },
  {
   "cell_type": "code",
   "execution_count": 115,
   "id": "4aedeb95-f81a-4790-ba3a-6c9ee012b760",
   "metadata": {
    "ExecuteTime": {
     "end_time": "2023-10-25T08:35:43.710797800Z",
     "start_time": "2023-10-25T08:35:43.648302Z"
    }
   },
   "outputs": [
    {
     "name": "stdout",
     "output_type": "stream",
     "text": [
      "User: Mr. Richard Beltran (ID: 860). Referrer: None\n",
      "User: Samuel Garcia (ID: 338). Referrer: None\n",
      "User: Sarah Watson (ID: 9928). Referrer: None\n",
      "User: Kyle Cummings (ID: 8924). Referrer: None\n",
      "User: Valerie Johnson (ID: 7025). Referrer: None\n",
      "User: Andrew Miller (ID: 844). Referrer: None\n",
      "User: Frank Mcfarland (ID: 4542). Referrer: None\n",
      "User: Sean Murphy (ID: 1601). Referrer: None\n",
      "User: William Salazar (ID: 3545). Referrer: 860\n",
      "User: Rachael Yoder (ID: 6175). Referrer: 338\n",
      "After deletion:\n",
      "User: Samuel Garcia (ID: 338). Referrer: None\n",
      "User: Sarah Watson (ID: 9928). Referrer: None\n",
      "User: Kyle Cummings (ID: 8924). Referrer: None\n",
      "User: Valerie Johnson (ID: 7025). Referrer: None\n",
      "User: Andrew Miller (ID: 844). Referrer: None\n",
      "User: Frank Mcfarland (ID: 4542). Referrer: None\n",
      "User: Sean Murphy (ID: 1601). Referrer: None\n"
     ]
    }
   ],
   "source": [
    "with session_pool() as session:\n",
    "    repo = Repo(session)\n",
    "    # Retrieve all users from the database and print them\n",
    "    for user in repo.get_all_users():\n",
    "        print(user)\n",
    "    \n",
    "    # Delete the first three users in the list\n",
    "    for user in users[:3]:\n",
    "        # Call the delete_user_by_id method from the Repo class to delete each user by their telegram_id \n",
    "        repo.delete_user_by_id(user.telegram_id)\n",
    "        \n",
    "    # Print the list of all users after deletion to confirm\n",
    "    print(\"After deletion:\")\n",
    "    for user in repo.get_all_users():\n",
    "        print(user)"
   ]
  },
  {
   "cell_type": "code",
   "execution_count": 116,
   "outputs": [
    {
     "name": "stdout",
     "output_type": "stream",
     "text": [
      "7\n"
     ]
    }
   ],
   "source": [
    "# let's count the number of users.\n",
    "# !!! The number should be 7. \n",
    "# If there are less, then you'll have to add ondelete='SET NULL' to the referrer_id column of the User table\n",
    "with session_pool() as session:\n",
    "    repo = Repo(session)\n",
    "    users = repo.get_all_users()\n",
    "    print(len(users))"
   ],
   "metadata": {
    "collapsed": false,
    "ExecuteTime": {
     "end_time": "2023-10-25T08:35:48.945441400Z",
     "start_time": "2023-10-25T08:35:48.848441100Z"
    }
   },
   "id": "f4009e141a4fb7b3"
  },
  {
   "cell_type": "markdown",
   "id": "ed212c99-6986-4e6b-aba7-1fd7c818e268",
   "metadata": {},
   "source": [
    "### Bulk insert users"
   ]
  },
  {
   "cell_type": "markdown",
   "id": "965af817-1474-4ada-acc9-e8225587425c",
   "metadata": {},
   "source": [
    "Now, lets update our repo with bulk insert method"
   ]
  },
  {
   "cell_type": "code",
   "execution_count": 98,
   "id": "df1f5d61-015d-4c56-bcda-bc3432c44205",
   "metadata": {
    "ExecuteTime": {
     "end_time": "2023-10-25T08:13:14.672187200Z",
     "start_time": "2023-10-25T08:13:14.621188200Z"
    }
   },
   "outputs": [],
   "source": [
    "from sqlalchemy import insert, select, delete, update, bindparam\n",
    "from sqlalchemy.orm import Session\n",
    "\n",
    "\n",
    "class Repo:\n",
    "    def __init__(self, session: Session):\n",
    "        self.session = session\n",
    "    def add_user(\n",
    "            self,\n",
    "            telegram_id: int,\n",
    "            full_name: str,\n",
    "            language_code: str,\n",
    "            user_name: str = None,\n",
    "            referrer_id: int = None,\n",
    "    ):\n",
    "        stmt = insert(User).values(\n",
    "            telegram_id=telegram_id,\n",
    "            full_name=full_name,\n",
    "            user_name=user_name,\n",
    "            language_code=language_code,\n",
    "            referrer_id=referrer_id,\n",
    "        ).returning(User)\n",
    "        result = self.session.execute(stmt)\n",
    "        self.session.commit()\n",
    "        return result.scalars().first()\n",
    "\n",
    "    def get_all_users(self):\n",
    "        stmt = select(User)\n",
    "        result = self.session.execute(stmt)\n",
    "        return result.scalars().all()\n",
    "\n",
    "    def cleanup_users(self):\n",
    "        stmt = delete(User)\n",
    "        self.session.execute(stmt)\n",
    "        self.session.commit()\n",
    "\n",
    "    def set_new_referrer(self, user_id: int, referrer_id: int):\n",
    "        stmt = (\n",
    "            update(User)\n",
    "            .where(User.telegram_id == user_id)\n",
    "            .values(referrer_id=referrer_id)\n",
    "            # We can also return the updated user\n",
    "        ).returning(User)\n",
    "        result = self.session.execute(stmt)\n",
    "        self.session.commit()\n",
    "        return result.scalars().first()\n",
    "\n",
    "    def delete_user_by_id(self, user_id: int):\n",
    "        stmt = delete(User).where(User.telegram_id == user_id)\n",
    "        self.session.execute(stmt)\n",
    "        self.session.commit()\n",
    "\n",
    "    def create_new_order_for_user(self, user_id):\n",
    "        # Create an 'insert' statement to add a new order linked to a user\n",
    "        new_order = insert(Order).values(\n",
    "            user_id=user_id  # Set the 'user_id' column value\n",
    "        ).returning(Order.order_id)  # Return the new order_id generated\n",
    "        \n",
    "        # Execute the insert statement and commit the changes\n",
    "        result = self.session.execute(new_order)\n",
    "        self.session.commit()\n",
    "        \n",
    "        # Retrieve and return the order_id of the newly created order\n",
    "        return result.scalar()\n",
    "\n",
    "    def add_bulk_products(self, products: list[dict]):\n",
    "        # Create an 'insert' statement for adding multiple products at once\n",
    "        stmt = insert(Product).values(\n",
    "            title=bindparam('title'),  # Use bindparam for batch insertion\n",
    "            description=bindparam('description'),\n",
    "            price=bindparam('price')\n",
    "        ).returning(Product)\n",
    "        \n",
    "        # Execute the insert statement with the list of product dictionaries\n",
    "        result = self.session.execute(stmt, products)\n",
    "        self.session.commit()\n",
    "        \n",
    "        # Return all newly inserted products\n",
    "        return result.scalars().all()\n",
    "\n",
    "        \n",
    "    def bulk_insert_products_into_order_id(self, order_id: int, products: list[dict]):\n",
    "        # Create an 'insert' statement for adding multiple products to an order\n",
    "        stmt = insert(OrderProducts).values(\n",
    "            order_id=order_id,  # Set the order_id\n",
    "            product_id=bindparam('product_id'),  # Use bindparam for batch insertion\n",
    "            quantity=bindparam('quantity')\n",
    "        )\n",
    "        \n",
    "        # Execute the insert statement with the list of product-quantity mappings\n",
    "        self.session.execute(stmt, products)\n",
    "        self.session.commit()"
   ]
  },
  {
   "cell_type": "markdown",
   "source": [
    "Now we can test our methods.\n",
    "Firstly, let's create the products:"
   ],
   "metadata": {
    "collapsed": false
   },
   "id": "75d2f2713e7a4c79"
  },
  {
   "cell_type": "code",
   "execution_count": 121,
   "outputs": [
    {
     "name": "stdout",
     "output_type": "stream",
     "text": [
      "Product: loss (ID: 71). Price: 568.6000\n",
      "Product: hot (ID: 72). Price: 192.5400\n",
      "Product: meet (ID: 73). Price: 24.2600\n",
      "Product: add (ID: 74). Price: 261.6100\n",
      "Product: happy (ID: 75). Price: 479.4000\n",
      "Product: page (ID: 76). Price: 313.4200\n",
      "Product: anyone (ID: 77). Price: 289.2000\n",
      "Product: stock (ID: 78). Price: 599.2900\n",
      "Product: physical (ID: 79). Price: 859.4500\n",
      "Product: other (ID: 80). Price: 354.3200\n"
     ]
    }
   ],
   "source": [
    "with session_pool() as session:\n",
    "    repo = Repo(session)\n",
    "    \n",
    "    # Create a list of 10 fake products using Python Faker library\n",
    "    products = [\n",
    "        dict(\n",
    "            title=fake.word(),  # Generate a random word as product title\n",
    "            description=fake.sentence(),  # Generate a random sentence as product description\n",
    "            price=fake.pyfloat(left_digits=3, right_digits=2, positive=True)  # Generate a random positive float as product price\n",
    "        ) for _ in range(10)\n",
    "    ]\n",
    "    \n",
    "    # Use the add_bulk_products method to insert these products into the database\n",
    "    # The method returns the inserted products, possibly with their database IDs\n",
    "    products = repo.add_bulk_products(products)\n",
    "    \n",
    "    # Print the list of inserted products to the console\n",
    "    for product in products:\n",
    "        print(product)"
   ],
   "metadata": {
    "collapsed": false,
    "ExecuteTime": {
     "end_time": "2023-10-25T08:40:23.985097500Z",
     "start_time": "2023-10-25T08:40:23.914096900Z"
    }
   },
   "id": "1b1c0b149d1a0917"
  },
  {
   "cell_type": "markdown",
   "source": [
    "Now we can create an order for the user and add products to it"
   ],
   "metadata": {
    "collapsed": false
   },
   "id": "1ef523754758b835"
  },
  {
   "cell_type": "code",
   "execution_count": 122,
   "outputs": [
    {
     "name": "stdout",
     "output_type": "stream",
     "text": [
      "User: Samuel Garcia (ID: 338). Referrer: None\n",
      "Order ID: 6\n"
     ]
    }
   ],
   "source": [
    "with session_pool() as session:\n",
    "    repo = Repo(session)\n",
    "\n",
    "    # Fetch the first user from the database (it's better to create a separate method for this, though)\n",
    "    user = repo.get_all_users()[0]\n",
    "    print(user)\n",
    "    \n",
    "    # Create a new order for the fetched user and retrieve the generated order_id\n",
    "    order_id = repo.create_new_order_for_user(user.telegram_id)\n",
    "    print(f\"Order ID: {order_id}\")\n",
    "    \n",
    "    # Create a list of products with their quantities for the order\n",
    "    # (Assumption: 'products' is a list of product objects previously fetched or created)\n",
    "    products = [\n",
    "        dict(\n",
    "            product_id=product.product_id,  # Use existing product IDs\n",
    "            quantity=fake.pyint()  # Generate random quantities using Faker\n",
    "        ) for product in products\n",
    "    ]\n",
    "    \n",
    "    # Insert the products into the order using the 'bulk_insert_products_into_order_id' method\n",
    "    repo.bulk_insert_products_into_order_id(order_id, products)"
   ],
   "metadata": {
    "collapsed": false,
    "ExecuteTime": {
     "end_time": "2023-10-25T08:40:25.835255500Z",
     "start_time": "2023-10-25T08:40:25.779088100Z"
    }
   },
   "id": "3812fa0a230cb9a"
  },
  {
   "cell_type": "markdown",
   "source": [
    "Let's check if the order was created with the products"
   ],
   "metadata": {
    "collapsed": false
   },
   "id": "2ab9d63f70a3d985"
  },
  {
   "cell_type": "code",
   "execution_count": 123,
   "outputs": [
    {
     "name": "stdout",
     "output_type": "stream",
     "text": [
      "Order ID 6\n",
      "Product: loss (ID: 71). Price: 568.6000\n",
      "Product: hot (ID: 72). Price: 192.5400\n",
      "Product: meet (ID: 73). Price: 24.2600\n",
      "Product: add (ID: 74). Price: 261.6100\n",
      "Product: happy (ID: 75). Price: 479.4000\n",
      "Product: page (ID: 76). Price: 313.4200\n",
      "Product: anyone (ID: 77). Price: 289.2000\n",
      "Product: stock (ID: 78). Price: 599.2900\n",
      "Product: physical (ID: 79). Price: 859.4500\n",
      "Product: other (ID: 80). Price: 354.3200\n"
     ]
    }
   ],
   "source": [
    "with session_pool() as session:\n",
    "    repo = Repo(session)\n",
    "    # Construct a SQL SELECT statement to fetch an order by its order_id\n",
    "    stmt = select(Order).where(Order.order_id == order_id)  # Replace 'order_id' with a specific value if not already defined\n",
    "\n",
    "    # Execute the SELECT statement and fetch the result\n",
    "    result = session.execute(stmt)\n",
    "\n",
    "    # Retrieve the first scalar result which contains the fetched order information\n",
    "    order_info = result.scalars().first()\n",
    "\n",
    "    # Display the fetched order's ID\n",
    "    print(f\"Order ID {order_info.order_id}\")\n",
    "\n",
    "    # Loop through the associated products of the order\n",
    "    # This is possible because of a presumed relationship between 'Order' and 'OrderProducts' tables\n",
    "    for order_product in order_info.products:\n",
    "        print(order_product.product)  # Access and print the product information\n",
    "    "
   ],
   "metadata": {
    "collapsed": false,
    "ExecuteTime": {
     "end_time": "2023-10-25T08:40:38.012110200Z",
     "start_time": "2023-10-25T08:40:37.948111Z"
    }
   },
   "id": "e5747e4e0155e2b"
  },
  {
   "cell_type": "markdown",
   "id": "bdb14d82-d62d-40ca-b10b-08749670252f",
   "metadata": {},
   "source": [
    "### That's it for the section 5!"
   ]
  }
 ],
 "metadata": {
  "kernelspec": {
   "display_name": "Python 3 (ipykernel)",
   "language": "python",
   "name": "python3"
  },
  "language_info": {
   "codemirror_mode": {
    "name": "ipython",
    "version": 3
   },
   "file_extension": ".py",
   "mimetype": "text/x-python",
   "name": "python",
   "nbconvert_exporter": "python",
   "pygments_lexer": "ipython3",
   "version": "3.11.3"
  }
 },
 "nbformat": 4,
 "nbformat_minor": 5
}
