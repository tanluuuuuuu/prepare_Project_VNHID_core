{
 "cells": [
  {
   "attachments": {},
   "cell_type": "markdown",
   "metadata": {},
   "source": [
    "# Section 2 - Working with tables\n",
    "## Executing your first queries\n",
    "\n",
    "Firstly, lets again initialize the database connection (copy from the previous section):"
   ]
  },
  {
   "cell_type": "code",
   "execution_count": 2,
   "metadata": {
    "ExecuteTime": {
     "end_time": "2023-06-03T16:50:51.117081600Z",
     "start_time": "2023-06-03T16:50:50.747581500Z"
    }
   },
   "outputs": [],
   "source": [
    "from sqlalchemy import create_engine, URL\n",
    "from sqlalchemy.orm import sessionmaker\n",
    "\n",
    "url = URL.create(\n",
    "    drivername=\"postgresql+psycopg2\",  # driver name = postgresql + the library we are using (psycopg2)\n",
    "    username='testuser',\n",
    "    password='testpassword',\n",
    "    host='localhost',\n",
    "    database='testuser',\n",
    "    port=5432\n",
    ")\n",
    "\n",
    "engine = create_engine(url) # skipped echo=True to avoid printing out all the SQL commands\n",
    "session_pool = sessionmaker(bind=engine)"
   ]
  },
  {
   "attachments": {},
   "cell_type": "markdown",
   "metadata": {},
   "source": [
    "Now, to execute any raw SQL query, you would need to import the `text` function from the `sqlalchemy` package. This function will allow you to write raw SQL queries in Python.\n",
    "For example, we can execute the query that will create a new table in our database:"
   ]
  },
  {
   "cell_type": "code",
   "execution_count": 3,
   "metadata": {},
   "outputs": [],
   "source": [
    "from sqlalchemy import text\n",
    "\n",
    "with session_pool() as session:\n",
    "    query = text(\"\"\"\n",
    "    CREATE TABLE users\n",
    "(\n",
    "    telegram_id   BIGINT PRIMARY KEY,\n",
    "    full_name     VARCHAR(255) NOT NULL,\n",
    "    username      VARCHAR(255),\n",
    "    language_code VARCHAR(255) NOT NULL,\n",
    "    created_at    TIMESTAMP DEFAULT NOW(),\n",
    "    referrer_id   BIGINT,\n",
    "    FOREIGN KEY (referrer_id)\n",
    "        REFERENCES users (telegram_id)\n",
    "        ON DELETE SET NULL\n",
    ");\n",
    "    \"\"\")\n",
    "    session.execute(query)\n",
    "    # and commit the changes\n",
    "    session.commit()"
   ]
  },
  {
   "attachments": {},
   "cell_type": "markdown",
   "metadata": {},
   "source": [
    "Now you can make some other queries to the database. For example, you can select all the data from the `users` table:"
   ]
  },
  {
   "cell_type": "code",
   "execution_count": 4,
   "metadata": {},
   "outputs": [
    {
     "name": "stdout",
     "output_type": "stream",
     "text": [
      "(1, 'John Doe', 'johndoe', 'en', datetime.datetime(2024, 11, 19, 3, 24, 19, 546455), None)\n",
      "(2, 'Jane Doe', 'janedoe', 'en', datetime.datetime(2024, 11, 19, 3, 24, 19, 546455), 1)\n"
     ]
    }
   ],
   "source": [
    "with session_pool() as session:\n",
    "    insert_query = text(\"\"\"\n",
    "    INSERT INTO users (telegram_id, full_name, username, language_code, referrer_id)\n",
    "    VALUES (1, 'John Doe', 'johndoe', 'en', NULL),\n",
    "              (2, 'Jane Doe', 'janedoe', 'en', 1);\n",
    "    \"\"\")\n",
    "    session.execute(insert_query)\n",
    "    session.commit()\n",
    "\n",
    "    select_query = text(\"\"\"\n",
    "    SELECT * FROM users;\n",
    "    \"\"\")\n",
    "    result = session.execute(select_query)\n",
    "    for row in result:\n",
    "        print(row)\n"
   ]
  },
  {
   "attachments": {},
   "cell_type": "markdown",
   "metadata": {},
   "source": [
    "We can also fetch data results by different methods.\n",
    "\n",
    "The term \"result\" in the context of SQLAlchemy and databases generally refers to the data returned from a database query. Depending on the method you use to retrieve the data, the result can be different:\n",
    "\n",
    "- `execute()`: This is a method on `Connection` and `Engine` objects that you use to execute a SQL statement. The result is a `ResultProxy` object, which is a Python iterable and represents the \"cursor\" of the database, providing a way to fetch rows.\n",
    "\n",
    "- `fetchall()`: This is a method on the `ResultProxy` object, which fetches all rows from the result set and returns them as a list of tuples or, if you're using `RowProxy` objects (which behave similarly to Python dictionaries), a list of `RowProxy` objects.\n",
    "\n",
    "- `fetchone()`: This is another method on the `ResultProxy` object, which fetches the next row of the result set and returns it as a tuple or a `RowProxy` object. If there are no more rows, it returns `None`.\n",
    "\n",
    "- `first()`: This is another method on the `ResultProxy` object. It fetches the first row of the result set, and it's essentially equivalent to calling `fetchone()` immediately after executing the query.\n",
    "\n",
    "- `scalar()`: This is another method on the `ResultProxy` object. It fetches the first column of the first row of the result set, and returns it as a Python scalar value. If there are no rows, it returns `None`.\n",
    "\n",
    "So in the context of raw SQL queries, the \"result\" is typically a `ResultProxy` object that provides several methods to fetch rows from the result set. The rows can be fetched all at once with `fetchall()`, one at a time with `fetchone()`, or you can fetch a single value with `scalar()`.\n",
    "\n",
    "So lets compare the results of them all:"
   ]
  },
  {
   "cell_type": "code",
   "execution_count": 4,
   "metadata": {
    "ExecuteTime": {
     "end_time": "2023-06-03T16:51:19.763497200Z",
     "start_time": "2023-06-03T16:51:19.588498Z"
    }
   },
   "outputs": [
    {
     "name": "stdout",
     "output_type": "stream",
     "text": [
      "execute result: <sqlalchemy.engine.cursor.CursorResult object at 0x000002D524B80D60>\n",
      "fetchall result: [(1, 'John Doe', 'johndoe', 'en', datetime.datetime(2023, 6, 3, 15, 18, 37, 869512), None), (2, 'Jane Doe', 'janedoe', 'en', datetime.datetime(2023, 6, 3, 15, 18, 37, 869512), 1)]\n",
      "fetchone result (one row): (1, 'John Doe', 'johndoe', 'en', datetime.datetime(2023, 6, 3, 15, 18, 37, 869512), None)\n",
      "first result (one row): (1, 'John Doe', 'johndoe', 'en', datetime.datetime(2023, 6, 3, 15, 18, 37, 869512), None)\n",
      "scalar result username: johndoe\n",
      "scalar one or none result username: None\n"
     ]
    }
   ],
   "source": [
    "with session_pool() as session:\n",
    "    # execute result\n",
    "    result = session.execute(text(\"SELECT * FROM users\"))\n",
    "    print(f\"execute result: {result}\")\n",
    "\n",
    "    # fetchall result\n",
    "    result = session.execute(text(\"SELECT * FROM users\")).fetchall()\n",
    "    print(f\"fetchall result: {result}\")\n",
    "\n",
    "    # fetchone result\n",
    "    result = session.execute(text(\"SELECT * FROM users\")).fetchone()\n",
    "    print(f\"fetchone result (one row): {result}\")\n",
    "\n",
    "    # first result\n",
    "    result = session.execute(text(\"SELECT * FROM users\")).first()\n",
    "    print(f\"first result (one row): {result}\")\n",
    "\n",
    "    # scalar result\n",
    "    result = session.execute(text(\"SELECT username FROM users WHERE telegram_id = :telegram_id\"), {\"telegram_id\": 1}).scalar()\n",
    "    print(f\"scalar result username: {result}\")\n",
    "\n",
    "    # scalar one or none result\n",
    "    result = session.execute(text(\"SELECT username FROM users WHERE telegram_id = :telegram_id\"), {\"telegram_id\": 12345}).scalar_one_or_none()\n",
    "    print(f\"scalar one or none result username: {result}\")"
   ]
  },
  {
   "attachments": {},
   "cell_type": "markdown",
   "metadata": {
    "collapsed": false
   },
   "source": [
    "\n",
    "\n",
    "\n",
    "\n",
    "\n",
    "\n",
    "\n",
    "## Creating tables with SQLAlchemy\n",
    "\n",
    "### ORM\n",
    "\n",
    "So you know how to create tables in SQL, now you can use SQLAlchemy to create them. If you are not familiar with _Object oriented programming_ (OOP) at this point, you have to learn it first, since we will be using  _Object Relational Mapping_ (ORM) to create tables.\n",
    "\n",
    "SQLAlchemy is a powerful Object Relational Mapper (ORM) for Python, which allows you to interact with your database using Python objects\n",
    "and classes rather than writing raw SQL queries. ORM provides a high-level, abstraction layer on top of SQL,\n",
    "making it easy to work with databases in a more Pythonic way, while still leveraging the full power of SQL.\n",
    "\n",
    "Basically, you will have access to your database tables as to python objects, and to tables' columns as to attributes of\n",
    "these objects.\n",
    "\n",
    "The central idea behind ORM is to map the database tables to Python classes, and the table rows to class instances (objects).\n",
    "This way, you'll be able to perform database operations using object-oriented programming concepts, such as inheritance, associations, and encapsulation.\n",
    "\n",
    "#### Disclaimer\n",
    "This is a very short tutorial to introduce you to SQLAlchemy. If you want to learn more, you can read the official\n",
    "documentation: https://docs.sqlalchemy.org/en/20/tutorial/index.html\n",
    "\n",
    "### Creating a table\n",
    "To map our Python classes to database tables, we'll use SQLAlchemy's Declarative system.\n",
    "\n",
    "To start creating tables, you will need a specific SQLAlchemy base class to inherit from, so SQLAlchemy will understand\n",
    "how to map the results of your queries to Python objects.\n",
    "\n",
    "This class is called declarative base and is created like this:\n",
    "\n",
    "```python\n",
    "from sqlalchemy.orm import DeclarativeBase\n",
    "\n",
    "class Base(DeclarativeBase):\n",
    "    pass\n",
    "```\n",
    "\n",
    "Now you can start creating tables as Python classes.\n",
    "\n",
    "Do you remember how we created the users table in SQL?\n",
    "\n",
    "```postgresql\n",
    "CREATE TABLE users\n",
    "(\n",
    "    telegram_id   BIGINT PRIMARY KEY,\n",
    "    full_name     VARCHAR(255) NOT NULL,\n",
    "    username      VARCHAR(255),\n",
    "    language_code VARCHAR(255) NOT NULL,\n",
    "    created_at    TIMESTAMP DEFAULT NOW(),\n",
    "    referrer_id   BIGINT,\n",
    "    FOREIGN KEY (referrer_id)\n",
    "        REFERENCES users (telegram_id)\n",
    "        ON DELETE SET NULL\n",
    ");\n",
    "```\n",
    "\n",
    "Let's create a class to represent this table:\n",
    "\n",
    "1. To create a table in SQLAlchemy, you need to create a class that inherits from the declarative base.\n",
    "2. In order to create columns in the table, you need to create new attributes and assign them the `Column` class. Since the 2.0 you can use `mapped_column` function to create columns and Mapped type annotations to define types of columns.\n",
    "3. To use SQL data types you have to import specific objects from the `sqlalchemy` module. They usually have the same\n",
    "   names. Examples: `BIGINT`, `VARCHAR`, `TIMESTAMP`.\n",
    "4. To create a primary key, you need to pass the `primary_key` argument to the column.\n",
    "5. To create a not null constraint, you need to pass the `nullable` argument to the column.\n",
    "6. To create a default value, you need to pass the `server_default` argument to the column.\n",
    "7. To create a foreign key, you need to pass the `ForeignKey` argument to the column and fill its arguments.\n",
    "8. To use SQL expressions from SQLAlchemy you can use `sqlalchemy.sql.expression` module. For example, you can use\n",
    "   `null()` or `false()` to create a default values `NULL` or `FALSE` for a column.\n",
    "9. To use functions from SQLAlchemy you can use `sqlalchemy.func` module. For example, you can use `func.now()`\n",
    "   to create a default `NOW()` value for a column.\n",
    "10. To give a name to a table you must always specify the `__tablename__` attribute.\n",
    "\n",
    "To create tables in 2.0 syntax you will need to use `mapped_column` for creating columns."
   ]
  },
  {
   "cell_type": "code",
   "execution_count": null,
   "metadata": {
    "collapsed": false
   },
   "outputs": [],
   "source": [
    "from sqlalchemy import INTEGER\n",
    "from sqlalchemy.orm import DeclarativeBase\n",
    "\n",
    "\n",
    "# Creating a base class\n",
    "class Base(DeclarativeBase):\n",
    "    pass"
   ]
  },
  {
   "attachments": {},
   "cell_type": "markdown",
   "metadata": {
    "collapsed": false
   },
   "source": [
    "After that, we declare the columns that make up each table.\n",
    "\n",
    "These columns are declared using a special typing annotation called Mapped.\n",
    "The Python datatype associated with each Mapped annotation determines the corresponding SQL datatype, e.g., int for INTEGER or str for VARCHAR.\n",
    "Nullability is based on whether or not the Optional[] type modifier is used, but can also be specified explicitly using the nullable parameter.\n",
    "\n",
    "The mapped_column() directive is applied to column-based attributes, allowing SQLAlchemy to handle column properties, such as server defaults, primary key constraints, and foreign key constraints.\n",
    "Every ORM mapped class must have at least one column declared as a primary key. In our example, User.telegram_id is marked as the primary key by setting primary_key=True.\n",
    "\n",
    "```python\n",
    "class User(Base):\n",
    "    __tablename__ = \"users\"\n",
    "\n",
    "    telegram_id: Mapped[int] = mapped_column(BIGINT, primary_key=True)\n",
    "    full_name: Mapped[str] = mapped_column(VARCHAR(255))\n",
    "    username: Mapped[Optional[str]] = mapped_column(VARCHAR(255), nullable=True)\n",
    "    language_code: Mapped[str] = mapped_column(VARCHAR(255))\n",
    "    created_at: Mapped[datetime] = mapped_column(TIMESTAMP, server_default=func.now())\n",
    "    referrer_id: Mapped[Optional[int]] = mapped_column(BIGINT, ForeignKey('users.telegram_id', ondelete='SET NULL'))\n",
    "```\n",
    "Relationships between tables are defined using the relationship() construct, which creates links between ORM classes.\n",
    "Instead of direct column mappings, relationship() provides associations between two ORM classes.\n",
    "In this lesson’s example, there aren't any relationships present, apart from ForeignKey itself,\n",
    "but you can review a more detailed tutorial on working with ORM related objects in the SQLAlchemy Unified Tutorial.\n",
    "\n",
    "But we are not finished yet.\n",
    "\n",
    "You can also prepare a `Mixin` class, if you want to reuse definitions of columns in other tables.\n",
    "https://docs.sqlalchemy.org/en/20/orm/declarative_mixins.html"
   ]
  },
  {
   "cell_type": "code",
   "execution_count": null,
   "metadata": {
    "collapsed": false
   },
   "outputs": [],
   "source": [
    "import datetime\n",
    "from sqlalchemy.dialects.postgresql import TIMESTAMP\n",
    "from sqlalchemy import ForeignKey, BIGINT\n",
    "\n",
    "from sqlalchemy import String\n",
    "from sqlalchemy.orm import Mapped\n",
    "from sqlalchemy.orm import mapped_column\n",
    "from sqlalchemy.sql.functions import func\n",
    "\n",
    "\n",
    "class TimestampMixin:\n",
    "    created_at: Mapped[datetime] = mapped_column(TIMESTAMP, server_default=func.now())\n",
    "    updated_at: Mapped[datetime] = mapped_column(TIMESTAMP, server_default=func.now(), onupdate=func.now())"
   ]
  },
  {
   "attachments": {},
   "cell_type": "markdown",
   "metadata": {
    "collapsed": false
   },
   "source": [
    "Now your `Users` class will look like this:\n",
    "\n",
    "```python\n",
    "class Users(Base, TimestampMixin):\n",
    "    __tablename__ = \"users\"\n",
    "\n",
    "    telegram_id: Mapped[int] = mapped_column(BIGINT, nullable=False, primary_key=True)\n",
    "    full_name: Mapped[str] = mapped_column(String(255), nullable=False)\n",
    "    username: Mapped[str] = mapped_column(String(255), nullable=True)\n",
    "    language_code: Mapped[str] = mapped_column(String(255), nullable=False)\n",
    "    referrer_id: Mapped[int] = mapped_column(BIGINT, ForeignKey('users.telegram_id', ondelete='SET NULL'))\n",
    "```\n",
    "**BUT!** You can do even better.\n",
    "\n",
    "Sometimes you will want to reuse foreign keys or other columns, but give them different names. In this case, you can\n",
    "use `Annotated` class:"
   ]
  },
  {
   "cell_type": "code",
   "execution_count": null,
   "metadata": {
    "collapsed": false
   },
   "outputs": [],
   "source": [
    "from typing_extensions import Annotated\n",
    "from typing import Optional\n",
    "\n",
    "# Users ForeignKey\n",
    "user_fk = Annotated[\n",
    "    int, mapped_column(BIGINT, ForeignKey(\"users.telegram_id\", ondelete=\"CASCADE\"))\n",
    "]\n",
    "\n",
    "# integer primary key\n",
    "int_pk = Annotated[int, mapped_column(INTEGER, primary_key=True)]\n",
    "\n",
    "# string column with length 255\n",
    "str_255 = Annotated[str, mapped_column(String(255))]\n",
    "\n",
    "# So now your Users class will look like this:\n",
    "class Users(Base, TimestampMixin):\n",
    "    __tablename__ = \"users\"\n",
    "\n",
    "    telegram_id: Mapped[int] = mapped_column(BIGINT, primary_key=True, autoincrement=False)\n",
    "    full_name: Mapped[str_255]\n",
    "    username: Mapped[Optional[str_255]]\n",
    "    language_code: Mapped[str_255]\n",
    "    referrer_id: Mapped[Optional[user_fk]]"
   ]
  },
  {
   "attachments": {},
   "cell_type": "markdown",
   "metadata": {},
   "source": [
    "You can also create a `Mixin` class for generating tables names from class names."
   ]
  },
  {
   "cell_type": "code",
   "execution_count": null,
   "metadata": {},
   "outputs": [],
   "source": [
    "from sqlalchemy.ext.declarative import declared_attr\n",
    "\n",
    "class TableNameMixin:\n",
    "\n",
    "    @declared_attr.directive\n",
    "    def __tablename__(cls) -> str:\n",
    "        return cls.__name__.lower() + \"s\""
   ]
  },
  {
   "attachments": {},
   "cell_type": "markdown",
   "metadata": {
    "collapsed": false
   },
   "source": [
    "Do you see how clean and readable the code is?\n",
    "\n",
    "Let's now make some more tables from the previous tutorials.\n",
    "\n",
    "> **Note:** You can use autoincrement argument to create a SERIAL type column. If you don't want to use SERIAL in primary key, you will need to specify `autoincrement=False` in the column definition.\n",
    "\n",
    "```postgresql\n",
    "CREATE TABLE orders\n",
    "(\n",
    "    order_id   SERIAL PRIMARY KEY,\n",
    "    user_id    BIGINT NOT NULL,\n",
    "    created_at TIMESTAMP DEFAULT NOW(),\n",
    "    FOREIGN KEY (user_id)\n",
    "        REFERENCES users (telegram_id)\n",
    "        ON DELETE CASCADE\n",
    ");\n",
    "```"
   ]
  },
  {
   "cell_type": "code",
   "execution_count": null,
   "metadata": {
    "collapsed": false
   },
   "outputs": [],
   "source": [
    "class Orders(Base, TimestampMixin, TableNameMixin):\n",
    "\n",
    "    order_id: Mapped[int_pk]\n",
    "    user_id: Mapped[user_fk]"
   ]
  },
  {
   "attachments": {},
   "cell_type": "markdown",
   "metadata": {
    "collapsed": false
   },
   "source": [
    "```postgresql\n",
    "CREATE TABLE products\n",
    "(\n",
    "    product_id  SERIAL PRIMARY KEY,\n",
    "    title       VARCHAR(255) NOT NULL,\n",
    "    description TEXT,\n",
    "    created_at  TIMESTAMP DEFAULT NOW()\n",
    ");\n",
    "```"
   ]
  },
  {
   "cell_type": "code",
   "execution_count": null,
   "metadata": {
    "collapsed": false
   },
   "outputs": [],
   "source": [
    "class Products(Base, TimestampMixin, TableNameMixin):\n",
    "    product_id: Mapped[int_pk]\n",
    "    title: Mapped[str_255]\n",
    "    description: Mapped[str]"
   ]
  },
  {
   "attachments": {},
   "cell_type": "markdown",
   "metadata": {
    "collapsed": false
   },
   "source": [
    "```postgresql\n",
    "CREATE TABLE order_products\n",
    "(\n",
    "    order_id   INTEGER NOT NULL,\n",
    "    product_id INTEGER NOT NULL,\n",
    "    quantity   INTEGER NOT NULL,\n",
    "    FOREIGN KEY (order_id)\n",
    "        REFERENCES orders (order_id)\n",
    "        ON DELETE CASCADE,\n",
    "    FOREIGN KEY (product_id)\n",
    "        REFERENCES products (product_id)\n",
    "        ON DELETE RESTRICT\n",
    ");\n",
    "```"
   ]
  },
  {
   "cell_type": "code",
   "execution_count": null,
   "metadata": {
    "collapsed": false
   },
   "outputs": [],
   "source": [
    "class OrderProducts(Base, TableNameMixin):\n",
    "\n",
    "    order_id: Mapped[int] = mapped_column(INTEGER, ForeignKey(\"orders.order_id\", ondelete=\"CASCADE\"), primary_key=True)\n",
    "    product_id: Mapped[int] = mapped_column(INTEGER, ForeignKey(\"products.product_id\", ondelete=\"RESTRICT\"), primary_key=True)\n",
    "    quantity: Mapped[int]"
   ]
  },
  {
   "attachments": {},
   "cell_type": "markdown",
   "metadata": {},
   "source": [
    "Congratulations! You have created your first tables in SQLAlchemy! 🎉\n",
    "\n",
    "Well... almost. We just defined the tables, but we didn't create them in the database yet. See you in the next section!"
   ]
  }
 ],
 "metadata": {
  "kernelspec": {
   "display_name": "env",
   "language": "python",
   "name": "python3"
  },
  "language_info": {
   "codemirror_mode": {
    "name": "ipython",
    "version": 3
   },
   "file_extension": ".py",
   "mimetype": "text/x-python",
   "name": "python",
   "nbconvert_exporter": "python",
   "pygments_lexer": "ipython3",
   "version": "3.12.3"
  }
 },
 "nbformat": 4,
 "nbformat_minor": 0
}
